{
 "cells": [
  {
   "cell_type": "markdown",
   "metadata": {},
   "source": [
    "Solution to exercise 2.5 implement reverse Cuthill-McKee algorithm"
   ]
  },
  {
   "cell_type": "code",
   "execution_count": 26,
   "metadata": {},
   "outputs": [],
   "source": [
    "import numpy as np\n",
    "import networkx as nx\n",
    "import scipy.sparse as sparse\n",
    "from numpy import ndarray\n",
    "from matplotlib import pyplot as plt"
   ]
  },
  {
   "cell_type": "code",
   "execution_count": 27,
   "metadata": {},
   "outputs": [],
   "source": [
    "def FindRowValsOffDiagonal(matrix: ndarray):\n",
    "    rowValues = []\n",
    "    for i in range(len(matrix)):\n",
    "        degree = 0\n",
    "        for j in range(len(matrix[i])):\n",
    "            if matrix[i, j] != 0 and i != j:\n",
    "                degree += 1\n",
    "        rowValues.append(degree)\n",
    "    return rowValues"
   ]
  },
  {
   "cell_type": "code",
   "execution_count": 28,
   "metadata": {},
   "outputs": [],
   "source": [
    "def BFSRowValues(matrix: ndarray):\n",
    "    rowValues = FindRowValsOffDiagonal(matrix=matrix)\n",
    "    size = matrix.shape[0]\n",
    "    newValues = []\n",
    "    \n",
    "    while len(newValues) < size:\n",
    "        minIndex = rowValues.index(min(rowValues))\n",
    "        newValues.append(minIndex)\n",
    "        rowValues[minIndex] = float('inf')\n",
    "        for i in range(len(matrix[minIndex])):\n",
    "            if matrix[minIndex, i] != 0 and minIndex != i and not newValues.__contains__(i):\n",
    "                newValues.append(i)\n",
    "                rowValues[i] = float('inf')\n",
    "                \n",
    "    return newValues"
   ]
  },
  {
   "cell_type": "code",
   "execution_count": 29,
   "metadata": {},
   "outputs": [],
   "source": [
    "# Solution to 2.5\n",
    "def ReverseCuthillMckee(matrix: ndarray):\n",
    "    # BFS to reorder \"vertices\"\n",
    "    newValues = BFSRowValues(matrix=matrix)\n",
    "\n",
    "    # Permute matrix according to BFS\n",
    "    bandedMatrix = np.zeros(matrix.shape)\n",
    "    for i in range(len(bandedMatrix)):\n",
    "        for j in range(len(bandedMatrix[i])):\n",
    "            bandedMatrix[i][j] = matrix[newValues[i], newValues[j]]\n",
    "    \n",
    "    \n",
    "    return bandedMatrix\n",
    "    "
   ]
  },
  {
   "cell_type": "code",
   "execution_count": 30,
   "metadata": {},
   "outputs": [
    {
     "name": "stdout",
     "output_type": "stream",
     "text": [
      "[[0.         0.         0.1420769  0.         0.50905142 0.        ]\n",
      " [0.         0.26193929 0.         0.01169088 0.         0.        ]\n",
      " [0.1420769  0.         0.6591952  0.372141   0.         0.        ]\n",
      " [0.         0.01169088 0.372141   0.55575778 0.         0.03686414]\n",
      " [0.50905142 0.         0.         0.         0.         0.32828414]\n",
      " [0.         0.         0.         0.03686414 0.32828414 0.        ]]\n"
     ]
    }
   ],
   "source": [
    "# Create random sparse symmetric matrix\n",
    "matrix = sparse.random(6, 6, .6)\n",
    "matrixSymm = matrix.A.T * matrix.A\n",
    "print(matrixSymm)"
   ]
  },
  {
   "cell_type": "code",
   "execution_count": 31,
   "metadata": {},
   "outputs": [
    {
     "name": "stdout",
     "output_type": "stream",
     "text": [
      "[[0.26193929 0.01169088 0.         0.         0.         0.        ]\n",
      " [0.01169088 0.55575778 0.         0.372141   0.         0.03686414]\n",
      " [0.         0.         0.         0.1420769  0.50905142 0.        ]\n",
      " [0.         0.372141   0.1420769  0.6591952  0.         0.        ]\n",
      " [0.         0.         0.50905142 0.         0.         0.32828414]\n",
      " [0.         0.03686414 0.         0.         0.32828414 0.        ]]\n"
     ]
    }
   ],
   "source": [
    "# run the algorithm with the example matrix\n",
    "print(ReverseCuthillMckee(matrix=matrixSymm))"
   ]
  },
  {
   "cell_type": "code",
   "execution_count": 32,
   "metadata": {},
   "outputs": [],
   "source": [
    "# Solution to 2.6\n",
    "# read graph from file\n",
    "graph = nx.read_gml(\"dolphins.gml\")"
   ]
  },
  {
   "cell_type": "code",
   "execution_count": 33,
   "metadata": {},
   "outputs": [
    {
     "name": "stdout",
     "output_type": "stream",
     "text": [
      "['Beak', 'Beescratch', 'Bumper', 'CCL', 'Cross', 'DN16', 'DN21', 'DN63', 'Double', 'Feather', 'Fish', 'Five', 'Fork', 'Gallatin', 'Grin', 'Haecksel', 'Hook', 'Jet', 'Jonah', 'Knit', 'Kringel', 'MN105', 'MN23', 'MN60', 'MN83', 'Mus', 'Notch', 'Number1', 'Oscar', 'Patchback', 'PL', 'Quasi', 'Ripplefluke', 'Scabs', 'Shmuddel', 'SMN5', 'SN100', 'SN4', 'SN63', 'SN89', 'SN9', 'SN90', 'SN96', 'Stripes', 'Thumper', 'Topless', 'TR120', 'TR77', 'TR82', 'TR88', 'TR99', 'Trigger', 'TSN103', 'TSN83', 'Upbang', 'Vau', 'Wave', 'Web', 'Whitetip', 'Zap', 'Zig', 'Zipfel']\n",
      "[('Beak', 'Fish'), ('Beak', 'Grin'), ('Beak', 'Haecksel'), ('Beak', 'SN9'), ('Beak', 'SN96'), ('Beak', 'TR77'), ('Beescratch', 'Jet'), ('Beescratch', 'Knit'), ('Beescratch', 'Notch'), ('Beescratch', 'Number1'), ('Beescratch', 'Oscar'), ('Beescratch', 'SN100'), ('Beescratch', 'SN90'), ('Beescratch', 'Upbang'), ('Bumper', 'Fish'), ('Bumper', 'SN96'), ('Bumper', 'Thumper'), ('Bumper', 'Zipfel'), ('CCL', 'Double'), ('CCL', 'Grin'), ('CCL', 'Zap'), ('Cross', 'Trigger'), ('DN16', 'Feather'), ('DN16', 'Gallatin'), ('DN16', 'Wave'), ('DN16', 'Web'), ('DN21', 'Feather'), ('DN21', 'Gallatin'), ('DN21', 'Jet'), ('DN21', 'Upbang'), ('DN21', 'Wave'), ('DN21', 'Web'), ('DN63', 'Knit'), ('DN63', 'Number1'), ('DN63', 'PL'), ('DN63', 'SN9'), ('DN63', 'Upbang'), ('Double', 'Kringel'), ('Double', 'Oscar'), ('Double', 'SN4'), ('Double', 'Topless'), ('Double', 'Zap'), ('Feather', 'Gallatin'), ('Feather', 'Jet'), ('Feather', 'Ripplefluke'), ('Feather', 'SN90'), ('Feather', 'Web'), ('Fish', 'Patchback'), ('Fish', 'SN96'), ('Fish', 'TR77'), ('Five', 'Trigger'), ('Fork', 'Scabs'), ('Gallatin', 'Jet'), ('Gallatin', 'Ripplefluke'), ('Gallatin', 'SN90'), ('Gallatin', 'Upbang'), ('Gallatin', 'Web'), ('Grin', 'Hook'), ('Grin', 'MN83'), ('Grin', 'Scabs'), ('Grin', 'Shmuddel'), ('Grin', 'SN4'), ('Grin', 'SN63'), ('Grin', 'SN9'), ('Grin', 'Stripes'), ('Grin', 'TR99'), ('Grin', 'TSN103'), ('Haecksel', 'Jonah'), ('Haecksel', 'MN83'), ('Haecksel', 'SN9'), ('Haecksel', 'Topless'), ('Haecksel', 'Vau'), ('Haecksel', 'Zap'), ('Hook', 'Kringel'), ('Hook', 'Scabs'), ('Hook', 'SN4'), ('Hook', 'SN63'), ('Hook', 'TR99'), ('Jet', 'MN23'), ('Jet', 'Mus'), ('Jet', 'Number1'), ('Jet', 'Quasi'), ('Jet', 'Web'), ('Jonah', 'Kringel'), ('Jonah', 'MN105'), ('Jonah', 'MN83'), ('Jonah', 'Patchback'), ('Jonah', 'Topless'), ('Jonah', 'Trigger'), ('Knit', 'PL'), ('Knit', 'Upbang'), ('Kringel', 'Oscar'), ('Kringel', 'SN100'), ('Kringel', 'SN63'), ('Kringel', 'Thumper'), ('Kringel', 'TR77'), ('Kringel', 'TR99'), ('MN105', 'Patchback'), ('MN105', 'Scabs'), ('MN105', 'SN4'), ('MN105', 'Topless'), ('MN105', 'Trigger'), ('MN60', 'SN100'), ('MN60', 'Topless'), ('MN60', 'Trigger'), ('MN83', 'Patchback'), ('MN83', 'Topless'), ('MN83', 'Trigger'), ('Mus', 'Notch'), ('Mus', 'Number1'), ('Notch', 'Number1'), ('Oscar', 'PL'), ('Oscar', 'TR77'), ('Patchback', 'SMN5'), ('Patchback', 'Stripes'), ('Patchback', 'Topless'), ('Patchback', 'Trigger'), ('Patchback', 'TSN103'), ('PL', 'SN96'), ('PL', 'TR77'), ('Ripplefluke', 'Zig'), ('Scabs', 'Shmuddel'), ('Scabs', 'SN4'), ('Scabs', 'SN63'), ('Scabs', 'SN9'), ('Scabs', 'Stripes'), ('Scabs', 'TR99'), ('Shmuddel', 'SN4'), ('Shmuddel', 'Thumper'), ('Shmuddel', 'TR88'), ('SN100', 'SN4'), ('SN100', 'SN89'), ('SN100', 'SN9'), ('SN100', 'Zap'), ('SN4', 'SN9'), ('SN4', 'Stripes'), ('SN4', 'Topless'), ('SN4', 'Zipfel'), ('SN63', 'Stripes'), ('SN63', 'Thumper'), ('SN63', 'TSN103'), ('SN63', 'Whitetip'), ('SN89', 'Web'), ('SN9', 'TSN103'), ('SN90', 'Upbang'), ('SN90', 'Web'), ('SN96', 'TR77'), ('SN96', 'TR99'), ('Stripes', 'TR120'), ('Stripes', 'TSN83'), ('Topless', 'TR99'), ('Topless', 'Trigger'), ('Topless', 'Zap'), ('TR120', 'TR88'), ('TR82', 'Web'), ('TR99', 'Trigger'), ('Trigger', 'Vau'), ('TSN83', 'Zipfel'), ('Upbang', 'Web')]\n"
     ]
    }
   ],
   "source": [
    "print(graph.nodes)\n",
    "print(graph.edges)"
   ]
  },
  {
   "cell_type": "code",
   "execution_count": 34,
   "metadata": {},
   "outputs": [
    {
     "name": "stdout",
     "output_type": "stream",
     "text": [
      "[[0. 0. 0. ... 0. 0. 0.]\n",
      " [0. 0. 0. ... 0. 0. 0.]\n",
      " [0. 0. 0. ... 0. 0. 1.]\n",
      " ...\n",
      " [0. 0. 0. ... 0. 0. 0.]\n",
      " [0. 0. 0. ... 0. 0. 0.]\n",
      " [0. 0. 1. ... 0. 0. 0.]]\n",
      "[[0. 1. 0. ... 0. 0. 0.]\n",
      " [1. 0. 1. ... 1. 1. 1.]\n",
      " [0. 1. 0. ... 0. 0. 0.]\n",
      " ...\n",
      " [0. 1. 0. ... 0. 1. 0.]\n",
      " [0. 1. 0. ... 1. 0. 1.]\n",
      " [0. 1. 0. ... 0. 1. 0.]]\n"
     ]
    }
   ],
   "source": [
    "dolphinMatrix = nx.to_numpy_array(graph)\n",
    "print(dolphinMatrix)\n",
    "dolphinMatrixBanded = ReverseCuthillMckee(dolphinMatrix)\n",
    "print(dolphinMatrixBanded)"
   ]
  },
  {
   "cell_type": "code",
   "execution_count": 35,
   "metadata": {},
   "outputs": [
    {
     "data": {
      "image/png": "[encoded data removed]",
      "text/plain": [
       "<Figure size 640x480 with 1 Axes>"
      ]
     },
     "metadata": {},
     "output_type": "display_data"
    }
   ],
   "source": [
    "correlations = dolphinMatrix.data\n",
    "# plot dolphin adjacency matrix before Cuthill-McKee algorithm\n",
    "fig = plt.figure()\n",
    "ax = fig.add_subplot(111)\n",
    "cax = ax.matshow(correlations, vmin=0, vmax=1)\n",
    "plt.show()"
   ]
  },
  {
   "cell_type": "code",
   "execution_count": 36,
   "metadata": {},
   "outputs": [
    {
     "data": {
      "image/png": "[encoded data removed]",
      "text/plain": [
       "<Figure size 640x480 with 1 Axes>"
      ]
     },
     "metadata": {},
     "output_type": "display_data"
    }
   ],
   "source": [
    "correlations = dolphinMatrixBanded.data\n",
    "# plot dolphin adjacency matrix after Cuthill-McKee algorithm\n",
    "fig = plt.figure()\n",
    "ax = fig.add_subplot(111)\n",
    "cax = ax.matshow(correlations, vmin=0, vmax=1)\n",
    "plt.show()"
   ]
  }
 ],
 "metadata": {
  "kernelspec": {
   "display_name": "Python 3",
   "language": "python",
   "name": "python3"
  },
  "language_info": {
   "codemirror_mode": {
    "name": "ipython",
    "version": 3
   },
   "file_extension": ".py",
   "mimetype": "text/x-python",
   "name": "python",
   "nbconvert_exporter": "python",
   "pygments_lexer": "ipython3",
   "version": "3.11.7"
  }
 },
 "nbformat": 4,
 "nbformat_minor": 2
}
